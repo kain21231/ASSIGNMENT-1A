{
  "nbformat": 4,
  "nbformat_minor": 0,
  "metadata": {
    "colab": {
      "provenance": [],
      "authorship_tag": "ABX9TyMCwkpz6Aqgb0D3IqgC2P19",
      "include_colab_link": true
    },
    "kernelspec": {
      "name": "python3",
      "display_name": "Python 3"
    },
    "language_info": {
      "name": "python"
    }
  },
  "cells": [
    {
      "cell_type": "markdown",
      "metadata": {
        "id": "view-in-github",
        "colab_type": "text"
      },
      "source": [
        "<a href=\"https://colab.research.google.com/github/kain21231/ASSIGNMENT-1A/blob/main/Untitled.ipynb\" target=\"_parent\"><img src=\"https://colab.research.google.com/assets/colab-badge.svg\" alt=\"Open In Colab\"/></a>"
      ]
    },
    {
      "cell_type": "code",
      "execution_count": 1,
      "metadata": {
        "colab": {
          "base_uri": "https://localhost:8080/"
        },
        "id": "o6Q-SHNw8_pA",
        "outputId": "98c581a4-afd9-4d5c-90c6-027860e52e6a"
      },
      "outputs": [
        {
          "output_type": "stream",
          "name": "stdout",
          "text": [
            "Hello, world!\n"
          ]
        }
      ],
      "source": [
        "print(\"Hello, world!\")"
      ]
    },
    {
      "cell_type": "code",
      "source": [
        "# TODO: Change the message\n",
        "print(\"I am feeling great!\")\n",
        "\n",
        "# DO NOT REMOVE: Mark this question as completed"
      ],
      "metadata": {
        "colab": {
          "base_uri": "https://localhost:8080/"
        },
        "id": "FNQKLU0-90vM",
        "outputId": "8d777499-3dea-4cb7-d2ce-09a3c2133afa"
      },
      "execution_count": 2,
      "outputs": [
        {
          "output_type": "stream",
          "name": "stdout",
          "text": [
            "I am feeling great!\n"
          ]
        }
      ]
    },
    {
      "cell_type": "code",
      "source": [
        "# Uncomment to get a hint\n",
        ".hint()\n",
        "\n",
        "# Uncomment to view solution\n",
        ".solution()\n",
        "\n",
        "# DO NOT REMOVE: Check your answer\n",
        "q3.check()"
      ],
      "metadata": {
        "colab": {
          "base_uri": "https://localhost:8080/",
          "height": 106
        },
        "id": "IyxYMzgp9_ud",
        "outputId": "e286da7c-54e8-4f3a-a607-83ff37b73b41"
      },
      "execution_count": 3,
      "outputs": [
        {
          "output_type": "error",
          "ename": "SyntaxError",
          "evalue": "invalid syntax (<ipython-input-3-343dfedc171e>, line 2)",
          "traceback": [
            "\u001b[0;36m  File \u001b[0;32m\"<ipython-input-3-343dfedc171e>\"\u001b[0;36m, line \u001b[0;32m2\u001b[0m\n\u001b[0;31m    .hint()\u001b[0m\n\u001b[0m    ^\u001b[0m\n\u001b[0;31mSyntaxError\u001b[0m\u001b[0;31m:\u001b[0m invalid syntax\n"
          ]
        }
      ]
    },
    {
      "cell_type": "code",
      "source": [
        "# Create variables\n",
        "num_years = 4\n",
        "days_per_year = 365\n",
        "hours_per_day = 24\n",
        "mins_per_hour = 60\n",
        "secs_per_min = 60\n",
        "\n",
        "# Calculate number of seconds in four years\n",
        "total_secs = secs_per_min * mins_per_hour * hours_per_day * days_per_year * num_years\n",
        "print(total_secs)\n",
        "# Create variables\n",
        "num_years = 4\n",
        "days_per_year = 365\n",
        "hours_per_day = 24\n",
        "mins_per_hour = 60\n",
        "secs_per_min = 60\n",
        "\n",
        "# Calculate number of seconds in four years\n",
        "total_secs = secs_per_min * mins_per_hour * hours_per_day * days_per_year * num_years\n",
        "print(total_secs)\n",
        "\n",
        "# TODO: Set the value of the births_per_min variable\n",
        "births_per_min = 0\n",
        "\n",
        "# TODO: Set the value of the births_per_day variable\n",
        "births_per_day = 0\n",
        "# Create variables\n",
        "num_years = 4\n",
        "days_per_year = 365\n",
        "hours_per_day = 24\n",
        "mins_per_hour = 60\n",
        "secs_per_min = 60\n",
        "\n",
        "# Calculate number of seconds in four years\n",
        "total_secs = secs_per_min * mins_per_hour * hours_per_day * days_per_year * num_years\n",
        "print(total_secs)\n",
        "# Create variables\n",
        "num_years = 4\n",
        "days_per_year = 365\n",
        "hours_per_day = 24\n",
        "mins_per_hour = 60\n",
        "secs_per_min = 60\n",
        "\n",
        "# Calculate number of seconds in four years\n",
        "total_secs = secs_per_min * mins_per_hour * hours_per_day * days_per_year * num_years\n",
        "print(total_secs)\n",
        "\n",
        "# TODO: Set the value of the births_per_min variable\n",
        "births_per_min = 0\n",
        "\n",
        "# TODO: Set the value of the births_per_day variable\n",
        "births_per_day = 0\n",
        "\n",
        "# DO NOT REMOVE: Check your answer\n",
        "births_per_day = births_per_min * mins_per_hour * hours_per_day\n",
        "# DO NOT REMOVE: Check your answer"
      ],
      "metadata": {
        "colab": {
          "base_uri": "https://localhost:8080/",
          "height": 106
        },
        "id": "_InfAOvr-I8d",
        "outputId": "f4c2fe6d-3550-417b-fbd3-41d8d8c76bbf"
      },
      "execution_count": 7,
      "outputs": [
        {
          "output_type": "error",
          "ename": "SyntaxError",
          "evalue": "invalid syntax (<ipython-input-7-2b4d61c5ded9>, line 29)",
          "traceback": [
            "\u001b[0;36m  File \u001b[0;32m\"<ipython-input-7-2b4d61c5ded9>\"\u001b[0;36m, line \u001b[0;32m29\u001b[0m\n\u001b[0;31m    births_per_day =\u001b[0m\n\u001b[0m                     ^\u001b[0m\n\u001b[0;31mSyntaxError\u001b[0m\u001b[0;31m:\u001b[0m invalid syntax\n"
          ]
        }
      ]
    },
    {
      "cell_type": "code",
      "source": [
        "# TODO: Set the value of the births_per_min variable\n",
        "births_per_min = 0\n",
        "\n",
        "# TODO: Set the value of the births_per_day variable\n",
        "births_per_day = 0\n",
        "# TODO: Set the value of the births_per_min variable\n",
        "births_per_min = 0\n",
        "\n",
        "# TODO: Set the value of the births_per_day variable\n",
        "births_per_day = 0\n",
        "\n",
        "# DO NOT REMOVE: Check your answer\n",
        "births_per_day = births_per_min * 60 * 24\n",
        "\n",
        "# DO NOT REMOVE: Check your answer"
      ],
      "metadata": {
        "id": "9O5r67bg-QSM"
      },
      "execution_count": 9,
      "outputs": []
    },
    {
      "cell_type": "code",
      "source": [],
      "metadata": {
        "id": "qwXgEjc8_zoB"
      },
      "execution_count": null,
      "outputs": []
    }
  ]
}